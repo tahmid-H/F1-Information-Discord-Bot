{
 "cells": [
  {
   "cell_type": "code",
   "execution_count": 28,
   "metadata": {},
   "outputs": [],
   "source": [
    "import os\n",
    "import pandas as pd\n",
    "from dateutil import tz\n",
    "from pytz import country_timezones\n",
    "import pycountry\n",
    "import pickle\n",
    "import us\n"
   ]
  },
  {
   "cell_type": "code",
   "execution_count": 56,
   "metadata": {},
   "outputs": [
    {
     "ename": "TypeError",
     "evalue": "str argument expected",
     "output_type": "error",
     "traceback": [
      "\u001b[1;31m---------------------------------------------------------------------------\u001b[0m",
      "\u001b[1;31mTypeError\u001b[0m                                 Traceback (most recent call last)",
      "\u001b[1;32mc:\\Users\\tahmi\\Desktop\\Projects\\F1-Information-Discord-Bot\\backend\\tester.ipynb Cell 2'\u001b[0m in \u001b[0;36m<module>\u001b[1;34m\u001b[0m\n\u001b[1;32m----> <a href='vscode-notebook-cell:/c%3A/Users/tahmi/Desktop/Projects/F1-Information-Discord-Bot/backend/tester.ipynb#ch0000006?line=0'>1</a>\u001b[0m us\u001b[39m.\u001b[39;49mstates\u001b[39m.\u001b[39;49mlookup(\u001b[39m'\u001b[39;49m\u001b[39mMaryland\u001b[39;49m\u001b[39m'\u001b[39;49m)\n",
      "File \u001b[1;32mc:\\Users\\tahmi\\Desktop\\Projects\\F1-Information-Discord-Bot\\backend\\f1API\\lib\\site-packages\\us\\states.py:86\u001b[0m, in \u001b[0;36mlookup\u001b[1;34m(val, field, use_cache)\u001b[0m\n\u001b[0;32m     <a href='file:///c%3A/Users/tahmi/Desktop/Projects/F1-Information-Discord-Bot/backend/f1API/lib/site-packages/us/states.py?line=83'>84</a>\u001b[0m         field \u001b[39m=\u001b[39m \u001b[39m\"\u001b[39m\u001b[39mabbr\u001b[39m\u001b[39m\"\u001b[39m\n\u001b[0;32m     <a href='file:///c%3A/Users/tahmi/Desktop/Projects/F1-Information-Discord-Bot/backend/f1API/lib/site-packages/us/states.py?line=84'>85</a>\u001b[0m     \u001b[39melse\u001b[39;00m:\n\u001b[1;32m---> <a href='file:///c%3A/Users/tahmi/Desktop/Projects/F1-Information-Discord-Bot/backend/f1API/lib/site-packages/us/states.py?line=85'>86</a>\u001b[0m         val \u001b[39m=\u001b[39m jellyfish\u001b[39m.\u001b[39;49mmetaphone(val)\n\u001b[0;32m     <a href='file:///c%3A/Users/tahmi/Desktop/Projects/F1-Information-Discord-Bot/backend/f1API/lib/site-packages/us/states.py?line=86'>87</a>\u001b[0m         field \u001b[39m=\u001b[39m \u001b[39m\"\u001b[39m\u001b[39mname_metaphone\u001b[39m\u001b[39m\"\u001b[39m\n\u001b[0;32m     <a href='file:///c%3A/Users/tahmi/Desktop/Projects/F1-Information-Discord-Bot/backend/f1API/lib/site-packages/us/states.py?line=88'>89</a>\u001b[0m \u001b[39m# see if result is in cache\u001b[39;00m\n",
      "\u001b[1;31mTypeError\u001b[0m: str argument expected"
     ]
    }
   ],
   "source": [
    "us.states.lookup('Maryland')\n"
   ]
  }
 ],
 "metadata": {
  "interpreter": {
   "hash": "a4e6c85e2d83b1990758d6accd48102877c47204f1fc41ab14a9757a6aa22468"
  },
  "kernelspec": {
   "display_name": "Python 3.10.1 ('f1API': venv)",
   "language": "python",
   "name": "python3"
  },
  "language_info": {
   "codemirror_mode": {
    "name": "ipython",
    "version": 3
   },
   "file_extension": ".py",
   "mimetype": "text/x-python",
   "name": "python",
   "nbconvert_exporter": "python",
   "pygments_lexer": "ipython3",
   "version": "3.10.1"
  },
  "orig_nbformat": 4
 },
 "nbformat": 4,
 "nbformat_minor": 2
}
